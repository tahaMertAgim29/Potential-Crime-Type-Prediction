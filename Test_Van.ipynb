{
 "cells": [
  {
   "cell_type": "markdown",
   "id": "82d5de8e",
   "metadata": {},
   "source": [
    "1. Importing Libraries "
   ]
  },
  {
   "cell_type": "code",
   "execution_count": 40,
   "id": "0be289ef",
   "metadata": {},
   "outputs": [],
   "source": [
    "import pandas as pd\n",
    "import numpy as np\n",
    "from sklearn.model_selection import train_test_split, KFold, GridSearchCV\n",
    "from sklearn.preprocessing import LabelEncoder, OneHotEncoder, MinMaxScaler\n",
    "from sklearn.metrics import accuracy_score, f1_score, precision_score, recall_score, confusion_matrix, classification_report\n",
    "import matplotlib.pyplot as plt\n",
    "import seaborn as sns\n",
    "import warnings\n",
    "import joblib\n",
    "\n",
    "warnings.filterwarnings(\"ignore\")"
   ]
  },
  {
   "cell_type": "markdown",
   "id": "546cfeb7",
   "metadata": {},
   "source": [
    "2. Dataset and Data Preprocessing"
   ]
  },
  {
   "cell_type": "code",
   "execution_count": 41,
   "id": "bd96268b",
   "metadata": {},
   "outputs": [],
   "source": [
    "vanc_set = pd.read_csv(\"crime.csv\")\n",
    "\n",
    "#print(vanc_set.columns)\n",
    " \n",
    "def preprocess_vancouver(df):\n",
    "    # Converting to Datetime by using Time Information(Year, Month, Day, Hour, Minute)\n",
    "    df['Datetime'] = pd.to_datetime(dict(\n",
    "        year=df['YEAR'],\n",
    "        month=df['MONTH'],\n",
    "        day=df['DAY'],\n",
    "        hour=df['HOUR'],\n",
    "        minute=df['MINUTE']\n",
    "    ), errors='coerce')\n",
    "\n",
    "    df = df[df['Datetime'].notnull()]  # Geçerli tarihleri al\n",
    "    df['Year'] = df['Datetime'].dt.year\n",
    "    df['Month'] = df['Datetime'].dt.month\n",
    "    df['Day'] = df['Datetime'].dt.day\n",
    "    df['Hour'] = df['Datetime'].dt.hour\n",
    "    df['Weekday'] = df['Datetime'].dt.weekday\n",
    "\n",
    "    return df\n",
    "\n",
    "van_test = preprocess_vancouver(vanc_set)\n",
    "\n",
    "\n"
   ]
  },
  {
   "cell_type": "markdown",
   "id": "5e48e366",
   "metadata": {},
   "source": [
    "3. Daily Summary"
   ]
  },
  {
   "cell_type": "code",
   "execution_count": 42,
   "id": "6a00bd12",
   "metadata": {},
   "outputs": [],
   "source": [
    "def build_daily_summary(df, area_col, date_col, crime_col):\n",
    "    df['day'] = df[date_col].dt.date\n",
    "    grouped = df.groupby([area_col, 'day'])\n",
    "\n",
    "    daily_features = []\n",
    "\n",
    "    for (area, day), group in grouped:\n",
    "        summary = {\n",
    "            area_col: area,\n",
    "            'DAY': day,\n",
    "            'Crime_Count': len(group),\n",
    "            'Crime_Mode': group[crime_col].mode()[0] if not group[crime_col].mode().empty else None\n",
    "        }\n",
    "\n",
    "        daily_features.append(summary)\n",
    "\n",
    "    return pd.DataFrame(daily_features)\n",
    "\n",
    "summary_df = build_daily_summary(\n",
    "    van_test,\n",
    "    area_col='NEIGHBOURHOOD',\n",
    "    date_col='Datetime',\n",
    "    crime_col='TYPE'\n",
    ")"
   ]
  },
  {
   "cell_type": "markdown",
   "id": "2930603c",
   "metadata": {},
   "source": [
    "4. Rare Crime Filtering"
   ]
  },
  {
   "cell_type": "code",
   "execution_count": 43,
   "id": "71530ca7",
   "metadata": {},
   "outputs": [],
   "source": [
    "def filter_rare_labels_percentile(df, label_col='Crime_Mode', lower_percentile=10, upper_percentile=95):\n",
    "    value_counts = df[label_col].value_counts()\n",
    "    lower_thresh = np.percentile(value_counts.values, lower_percentile)\n",
    "    upper_thresh = np.percentile(value_counts.values, upper_percentile)\n",
    "    valid_classes = value_counts[(value_counts >= lower_thresh) & (value_counts <= upper_thresh)].index\n",
    "    filtered_df = df[df[label_col].isin(valid_classes)]\n",
    "    return filtered_df\n",
    "\n",
    "# Filtreleme uygulaması\n",
    "summary_df = filter_rare_labels_percentile(summary_df, label_col='Crime_Mode', lower_percentile=50, upper_percentile=65)"
   ]
  },
  {
   "cell_type": "markdown",
   "id": "5fda99a0",
   "metadata": {},
   "source": [
    "5. Time Series Construction"
   ]
  },
  {
   "cell_type": "code",
   "execution_count": 44,
   "id": "71197676",
   "metadata": {},
   "outputs": [],
   "source": [
    "def build_time_series(data, area_col, day_col, label_col, window_size=7):\n",
    "    data = data.sort_values(by=[area_col, day_col])\n",
    "    data.reset_index(drop=True, inplace=True)\n",
    "    features, labels = [], []\n",
    "\n",
    "    grouped = data.groupby(area_col)\n",
    "\n",
    "    for _, group in grouped:\n",
    "        group = group.sort_values(by=day_col)\n",
    "        group = group.reset_index(drop=True)\n",
    "\n",
    "        for i in range(len(group) - window_size):\n",
    "            window = group.iloc[i:i+window_size]\n",
    "            label_day = group.iloc[i+window_size]\n",
    "\n",
    "            if pd.isnull(label_day[label_col]):\n",
    "                continue\n",
    "\n",
    "            window_features = window.drop(columns=[area_col, day_col, label_col], errors='ignore')\n",
    "            features.append(window_features.to_numpy().flatten())\n",
    "            labels.append(label_day[label_col])\n",
    "\n",
    "    return np.array(features), np.array(labels)\n",
    "\n",
    "X_test, y_test_raw = build_time_series(\n",
    "    summary_df,\n",
    "    area_col='NEIGHBOURHOOD',\n",
    "    day_col='DAY',\n",
    "    label_col='Crime_Mode',\n",
    "    window_size=10 # Best Window Size, taken from Training\n",
    ")    "
   ]
  },
  {
   "cell_type": "markdown",
   "id": "03a13909",
   "metadata": {},
   "source": [
    "6. Scaler and Label Encoder"
   ]
  },
  {
   "cell_type": "code",
   "execution_count": 45,
   "id": "3001d086",
   "metadata": {},
   "outputs": [],
   "source": [
    "# Loading Scaler and Label Encoder used in Training of Vancouver Dataset\n",
    "scaler = joblib.load(\"scaler_vanc.pkl\")\n",
    "label_encoder = joblib.load(\"label_encoder_vanc.pkl\")\n",
    "\n",
    "# Missing Value Filling \n",
    "X_test = np.nan_to_num(X_test)\n",
    "\n",
    "# Shape Checking\n",
    "if X_test.shape[1] != scaler.n_features_in_:\n",
    "    raise ValueError(f\"X_test has {X_test.shape[1]} features but scaler expects {scaler.n_features_in_}\")\n",
    "\n",
    "# Transforming\n",
    "X_test_scaled = scaler.transform(X_test)\n",
    "y_test = label_encoder.transform(y_test_raw)"
   ]
  },
  {
   "cell_type": "markdown",
   "id": "fd5d2632",
   "metadata": {},
   "source": [
    "7. Models"
   ]
  },
  {
   "cell_type": "code",
   "execution_count": 46,
   "id": "83b26bee",
   "metadata": {},
   "outputs": [
    {
     "name": "stdout",
     "output_type": "stream",
     "text": [
      "For Vancouver Dataset\n",
      "\n",
      "\n",
      "==========Random Forest===========\n",
      "Accuracy:  0.6701158683933329\n",
      "Classification Report:\n",
      "               precision    recall  f1-score   support\n",
      "\n",
      "           0       0.63      0.85      0.72      8160\n",
      "           1       0.76      0.48      0.59      7979\n",
      "\n",
      "    accuracy                           0.67     16139\n",
      "   macro avg       0.70      0.67      0.66     16139\n",
      "weighted avg       0.69      0.67      0.66     16139\n",
      "\n",
      "\n",
      "==========KNN===========\n",
      "Accuracy:  0.6334964991635169\n",
      "Classification Report:\n",
      "               precision    recall  f1-score   support\n",
      "\n",
      "           0       0.63      0.68      0.65      8160\n",
      "           1       0.64      0.59      0.61      7979\n",
      "\n",
      "    accuracy                           0.63     16139\n",
      "   macro avg       0.63      0.63      0.63     16139\n",
      "weighted avg       0.63      0.63      0.63     16139\n",
      "\n",
      "\n",
      "==========Naive-Bayes===========\n",
      "Accuracy:  0.5447673337877192\n",
      "Classification Report:\n",
      "               precision    recall  f1-score   support\n",
      "\n",
      "           0       0.53      0.89      0.66      8160\n",
      "           1       0.63      0.19      0.29      7979\n",
      "\n",
      "    accuracy                           0.54     16139\n",
      "   macro avg       0.58      0.54      0.48     16139\n",
      "weighted avg       0.58      0.54      0.48     16139\n",
      "\n",
      "\n",
      "==========XGBoost===========\n",
      "Accuracy:  0.5842989032777743\n",
      "Classification Report:\n",
      "               precision    recall  f1-score   support\n",
      "\n",
      "           0       0.57      0.75      0.65      8160\n",
      "           1       0.62      0.42      0.50      7979\n",
      "\n",
      "    accuracy                           0.58     16139\n",
      "   macro avg       0.59      0.58      0.57     16139\n",
      "weighted avg       0.59      0.58      0.57     16139\n",
      "\n",
      "\n",
      "==========MLP===========\n",
      "Accuracy:  0.5636656546254415\n",
      "Classification Report:\n",
      "               precision    recall  f1-score   support\n",
      "\n",
      "           0       0.55      0.74      0.63      8160\n",
      "           1       0.59      0.39      0.47      7979\n",
      "\n",
      "    accuracy                           0.56     16139\n",
      "   macro avg       0.57      0.56      0.55     16139\n",
      "weighted avg       0.57      0.56      0.55     16139\n",
      "\n"
     ]
    }
   ],
   "source": [
    "rf_model= joblib.load(\"rf_vanc_model.pkl\")\n",
    "knn_model= joblib.load(\"knn_vanc_model.pkl\")\n",
    "nbayes_model= joblib.load(\"naive_bayes_vanc_model.pkl\")\n",
    "xgb_model= joblib.load(\"xgb_vanc_model.pkl\")\n",
    "mlp_model= joblib.load(\"mlp_vanc_model.pkl\")\n",
    "\n",
    "\n",
    "\n",
    "models= {\n",
    "    \"Random Forest\": rf_model,\n",
    "    \"KNN\": knn_model,\n",
    "    \"Naive-Bayes\": nbayes_model,\n",
    "    \"XGBoost\": xgb_model,\n",
    "    \"MLP\": mlp_model\n",
    "}\n",
    "\n",
    "\n",
    "print(\"For Vancouver Dataset\\n\")\n",
    "for name,model in models.items():\n",
    "    y_pred= model.predict(X_test_scaled)\n",
    "    acc= accuracy_score(y_test,y_pred)\n",
    "    print(f\"\\n=========={name}===========\")\n",
    "    print(\"Accuracy: \", acc)\n",
    "    print(\"Classification Report:\\n\", classification_report(y_test,y_pred))\n",
    "\n"
   ]
  }
 ],
 "metadata": {
  "kernelspec": {
   "display_name": ".venv",
   "language": "python",
   "name": "python3"
  },
  "language_info": {
   "codemirror_mode": {
    "name": "ipython",
    "version": 3
   },
   "file_extension": ".py",
   "mimetype": "text/x-python",
   "name": "python",
   "nbconvert_exporter": "python",
   "pygments_lexer": "ipython3",
   "version": "3.13.1"
  }
 },
 "nbformat": 4,
 "nbformat_minor": 5
}
